{
  "nbformat": 4,
  "nbformat_minor": 0,
  "metadata": {
    "kernelspec": {
      "name": "python3",
      "display_name": "Python 3"
    },
    "colab": {
      "name": "DeepLearningProject_Applegate.ipynb",
      "provenance": [],
      "collapsed_sections": [],
      "toc_visible": true,
      "include_colab_link": true
    },
    "accelerator": "GPU"
  },
  "cells": [
    {
      "cell_type": "markdown",
      "metadata": {
        "id": "view-in-github",
        "colab_type": "text"
      },
      "source": [
        "<a href=\"https://colab.research.google.com/github/QAppleData/DL_final_project/blob/main/DeepLearningProject_Applegate.ipynb\" target=\"_parent\"><img src=\"https://colab.research.google.com/assets/colab-badge.svg\" alt=\"Open In Colab\"/></a>"
      ]
    },
    {
      "cell_type": "markdown",
      "metadata": {
        "id": "vGbT1dgk2h0D"
      },
      "source": [
        "# Stock Prediction RNN \n",
        "\n",
        "In this project, I perform a time series prediction using a Recurrent Neural Network regressor. I will predict Apple's stock price 7 days in advance.\n",
        "\n",
        "The particular network architecture I will employ for my RNN is LSTM, which helps significantly avoid technical problems with optimization of RNNs."
      ]
    },
    {
      "cell_type": "markdown",
      "metadata": {
        "id": "boG82OJt2n4g"
      },
      "source": [
        "## Step 1: Loading the data\n",
        "\n",
        "Load in the time series - a history of around 140 days of Apple's stock price. A few pre-processing steps needed to prepare it for use with an RNN model.  First to normalize time series by its range to lie in the range [0,1]."
      ]
    },
    {
      "cell_type": "code",
      "metadata": {
        "id": "6k-jrLoP20Fm",
        "colab": {
          "base_uri": "https://localhost:8080/"
        },
        "outputId": "50240107-c01e-4186-b070-230f0c8a90c6"
      },
      "source": [
        "# download the data\n",
        "!wget https://raw.githubusercontent.com/QAppleData/DL_final_project/main/all_stocks_5yr.csv"
      ],
      "execution_count": 25,
      "outputs": [
        {
          "output_type": "stream",
          "text": [
            "--2020-12-06 17:28:08--  https://raw.githubusercontent.com/QAppleData/DL_final_project/main/all_stocks_5yr.csv\n",
            "Resolving raw.githubusercontent.com (raw.githubusercontent.com)... 151.101.0.133, 151.101.64.133, 151.101.128.133, ...\n",
            "Connecting to raw.githubusercontent.com (raw.githubusercontent.com)|151.101.0.133|:443... connected.\n",
            "HTTP request sent, awaiting response... 200 OK\n",
            "Length: 21599361 (21M) [text/plain]\n",
            "Saving to: ‘all_stocks_5yr.csv.1’\n",
            "\n",
            "all_stocks_5yr.csv. 100%[===================>]  20.60M  44.2MB/s    in 0.5s    \n",
            "\n",
            "2020-12-06 17:28:10 (44.2 MB/s) - ‘all_stocks_5yr.csv.1’ saved [21599361/21599361]\n",
            "\n"
          ],
          "name": "stdout"
        }
      ]
    },
    {
      "cell_type": "code",
      "metadata": {
        "id": "3-8wHDYS28-m",
        "colab": {
          "base_uri": "https://localhost:8080/"
        },
        "outputId": "1ae6d1df-53e8-4d3b-d5a1-5a997bb11e2e"
      },
      "source": [
        "!ls ."
      ],
      "execution_count": 26,
      "outputs": [
        {
          "output_type": "stream",
          "text": [
            "all_stocks_5yr.csv  all_stocks_5yr.csv.1  sample_data\n"
          ],
          "name": "stdout"
        }
      ]
    },
    {
      "cell_type": "code",
      "metadata": {
        "id": "lC_2yxKR2bSe"
      },
      "source": [
        "import numpy as np\n",
        "import pandas as pd\n",
        "import matplotlib.pyplot as plt\n",
        "\n",
        "import torch.nn as nn\n",
        "import torch\n",
        "from torch.autograd import Variable\n",
        "from torch.utils.data import Dataset, DataLoader"
      ],
      "execution_count": 3,
      "outputs": []
    },
    {
      "cell_type": "code",
      "metadata": {
        "id": "BvFrixdV2bSw"
      },
      "source": [
        "# Importing the training set\n",
        "dataset = data = pd.read_csv('./all_stocks_5yr.csv')\n",
        "# Create a np array the close values \n",
        "dataset_cl = dataset[dataset['Name']=='AAPL'].close.values"
      ],
      "execution_count": 27,
      "outputs": []
    },
    {
      "cell_type": "code",
      "metadata": {
        "id": "XFvN25Yj3w9r"
      },
      "source": [
        "# Feature Scaling\n",
        "from sklearn.preprocessing import MinMaxScaler\n",
        "\n",
        "sc = MinMaxScaler(feature_range = (0, 1))\n",
        "\n",
        "# scale the data\n",
        "dataset_cl = dataset_cl.reshape(dataset_cl.shape[0], 1)\n",
        "dataset_cl = sc.fit_transform(dataset_cl)"
      ],
      "execution_count": 28,
      "outputs": []
    },
    {
      "cell_type": "markdown",
      "metadata": {
        "id": "UURKEshg3g0G"
      },
      "source": [
        "## Step 2:  Cutting our time series into sequences\n",
        "\n",
        "A time series is a sequence of numbers that can be represented in general mathematically as \n",
        "\n",
        "$$s_{0},s_{1},s_{2},...,s_{P}$$\n",
        "\n",
        "where $s_{p}$ is the numerical value of the time series at time period $p$ and where $P$ is the total length of the series.  In order to apply RNN, the time series prediction problem needs to be treat as a regression problem. So use a sliding window to construct a set of associated input/output pairs to regress on.  This process is animated in the gif below.\n",
        "\n",
        "<img src=\"https://github.com/tonylaioffer/stock-prediction-lstm-using-keras/raw/master/images/timeseries_windowing_training.gif\" width=600 height=288/>\n",
        "\n",
        "Using a window of size T = 5, a set of input/output pairs like the one shown in the table was created. Each input is a sequence (or vector) of length 4 while each corresponding output is a scalar value.A given time series of length P and window size T = 5 as shown above, the correspoinding P - 5 input/output pairs are shown in the table below.  \n",
        "\n",
        "$$\\begin{array}{c|c}\n",
        "\\text{Input} & \\text{Output}\\\\\n",
        "\\hline \\color{CornflowerBlue} {\\langle s_{1},s_{2},s_{3},s_{4},s_{5}\\rangle} & \\color{Goldenrod}{ s_{6}} \\\\\n",
        "\\ \\color{CornflowerBlue} {\\langle s_{2},s_{3},s_{4},s_{5},s_{6} \\rangle } & \\color{Goldenrod} {s_{7} } \\\\\n",
        "\\color{CornflowerBlue}  {\\vdots} & \\color{Goldenrod} {\\vdots}\\\\\n",
        "\\color{CornflowerBlue} { \\langle s_{P-5},s_{P-4},s_{P-3},s_{P-2},s_{P-1} \\rangle } & \\color{Goldenrod} {s_{P}}\n",
        "\\end{array}$$\n",
        "\n"
      ]
    },
    {
      "cell_type": "code",
      "metadata": {
        "id": "pvBLqRvm4L6k"
      },
      "source": [
        "#Create a function to process the data into 7 day look back slices\n",
        "def processData(data, lb):\n",
        "    X, Y = [], []\n",
        "    for i in range(len(data) - lb - 1):\n",
        "        X.append(data[i: (i + lb), 0])\n",
        "        Y.append(data[(i + lb), 0])\n",
        "    return np.array(X), np.array(Y)\n",
        "X, y = processData(dataset_cl, 7)\n"
      ],
      "execution_count": 29,
      "outputs": []
    },
    {
      "cell_type": "markdown",
      "metadata": {
        "id": "yHsQGQ_V42G0"
      },
      "source": [
        "## Step 3: Split training and testing sets\n",
        "\n",
        "In order to perform proper testing on our dataset, the last 1/3 of which is designated for validation. The dataset could not be split randomly as commonly cases would do when validating a regression model, because the input/output pairs are related temporally. The design is to train on one solid chunk of the series (in this case, the first full 2/3 of it), and validate on a later chunk (the last 1/3) as this simulates how the model would predict future values of a time series."
      ]
    },
    {
      "cell_type": "code",
      "metadata": {
        "id": "syFXDlpn45xA",
        "colab": {
          "base_uri": "https://localhost:8080/"
        },
        "outputId": "9b8951df-0b71-4b78-85b4-3190683f1351"
      },
      "source": [
        "X_train, X_test = X[:int(X.shape[0]*0.80)],X[int(X.shape[0]*0.80):]\n",
        "y_train, y_test = y[:int(y.shape[0]*0.80)],y[int(y.shape[0]*0.80):]\n",
        "print(X_train.shape[0])\n",
        "print(X_test.shape[0])\n",
        "print(y_train.shape[0])\n",
        "print(y_test.shape[0])\n",
        "\n",
        "# reshaping\n",
        "X_train = np.reshape(X_train, (X_train.shape[0], 1, X_train.shape[1]))\n",
        "X_test = np.reshape(X_test, (X_test.shape[0], 1, X_test.shape[1]))"
      ],
      "execution_count": 8,
      "outputs": [
        {
          "output_type": "stream",
          "text": [
            "1000\n",
            "251\n",
            "1000\n",
            "251\n"
          ],
          "name": "stdout"
        }
      ]
    },
    {
      "cell_type": "markdown",
      "metadata": {
        "id": "GMXggue15R41"
      },
      "source": [
        "## Step 4:  Build and run an RNN regression model\n",
        "\n",
        "Build a two hidden layer RNN of the following steps:\n",
        "\n",
        "- layer 1 uses an LSTM module with 5 hidden units (note here the input_shape = (window_size,1))\n",
        "- layer 2 uses a fully connected module with one unit\n",
        "- the 'mean_squared_error' loss function"
      ]
    },
    {
      "cell_type": "code",
      "metadata": {
        "id": "HNWryPPg2bTM"
      },
      "source": [
        "# create RNN model\n",
        "class RNN(nn.Module):\n",
        "    def __init__(self, i_size, h_size, n_layers, o_size, dropout=0.1, bidirectional=True):\n",
        "        super(RNN, self).__init__()\n",
        "        self.num_directions = bidirectional+1\n",
        "        self.rnn = nn.LSTM(\n",
        "            input_size=i_size,\n",
        "            hidden_size=h_size,\n",
        "            num_layers=n_layers,\n",
        "            dropout=dropout,\n",
        "            bidirectional=bidirectional\n",
        "        )\n",
        "        self.out = nn.Linear(h_size, o_size)\n",
        "\n",
        "    def forward(self, x, h_state):\n",
        "        r_out, hidden_state = self.rnn(x, h_state)\n",
        "        \n",
        "        hidden_size = hidden_state[-1].size(-1)\n",
        "        r_out = r_out.view(-1, self.num_directions, hidden_size)\n",
        "        outs = self.out(r_out)\n",
        "        \n",
        "        return outs, hidden_state"
      ],
      "execution_count": 9,
      "outputs": []
    },
    {
      "cell_type": "code",
      "metadata": {
        "id": "SwwPpVsK2bTQ"
      },
      "source": [
        "# Globals\n",
        "\n",
        "INPUT_SIZE = 7\n",
        "HIDDEN_SIZE = 100\n",
        "NUM_LAYERS = 3\n",
        "OUTPUT_SIZE = 1\n",
        "BATCH_SIZE = 128\n",
        "# Hyper parameters\n",
        "\n",
        "learning_rate = 0.001\n",
        "num_epochs = 500\n",
        "\n",
        "rnn = RNN(INPUT_SIZE, HIDDEN_SIZE, NUM_LAYERS, OUTPUT_SIZE,bidirectional=False)\n",
        "rnn.cuda()\n",
        "\n",
        "optimiser = torch.optim.Adam(rnn.parameters(), lr=learning_rate)\n",
        "criterion = nn.MSELoss()\n",
        "\n",
        "hidden_state = None"
      ],
      "execution_count": 10,
      "outputs": []
    },
    {
      "cell_type": "code",
      "metadata": {
        "id": "BiQaghDCtNdg",
        "colab": {
          "base_uri": "https://localhost:8080/"
        },
        "outputId": "d8098c98-a535-48ce-9493-f949441e76a0"
      },
      "source": [
        "rnn #take a look"
      ],
      "execution_count": 11,
      "outputs": [
        {
          "output_type": "execute_result",
          "data": {
            "text/plain": [
              "RNN(\n",
              "  (rnn): LSTM(7, 100, num_layers=3, dropout=0.1)\n",
              "  (out): Linear(in_features=100, out_features=1, bias=True)\n",
              ")"
            ]
          },
          "metadata": {
            "tags": []
          },
          "execution_count": 11
        }
      ]
    },
    {
      "cell_type": "code",
      "metadata": {
        "id": "QlRhF5JP2bTX",
        "colab": {
          "base_uri": "https://localhost:8080/"
        },
        "outputId": "ed518640-7485-4cb3-ba96-9d6fb8b3201c"
      },
      "source": [
        "history = []\n",
        "X_test_cuda = torch.tensor(X_test).float().cuda()\n",
        "y_test_cuda = torch.tensor(y_test).float().cuda()\n",
        "\n",
        "# we use all the data in one batch\n",
        "inputs_cuda = torch.tensor(X_train).float().cuda()\n",
        "labels_cuda = torch.tensor(y_train).float().cuda()\n",
        "\n",
        "for epoch in range(num_epochs):\n",
        "    rnn.train()\n",
        "    output, _ = rnn(inputs_cuda, hidden_state) \n",
        "    # print(output.size())\n",
        "\n",
        "    loss = criterion(output[:,0,:].view(-1), labels_cuda)\n",
        "    optimiser.zero_grad()\n",
        "    loss.backward()                     # back propagation\n",
        "    optimiser.step()                    # update the parameters\n",
        "    \n",
        "    if epoch % 20 == 0:\n",
        "        rnn.eval()\n",
        "        test_output, _ = rnn(X_test_cuda, hidden_state)\n",
        "        test_loss = criterion(test_output.view(-1), y_test_cuda)\n",
        "        print('epoch {}, loss {}, eval loss {}'.format(epoch, loss.item(), test_loss.item()))\n",
        "    else:\n",
        "        print('epoch {}, loss {}'.format(epoch, loss.item()))\n",
        "    history.append(loss.item())"
      ],
      "execution_count": 12,
      "outputs": [
        {
          "output_type": "stream",
          "text": [
            "epoch 0, loss 0.1176510825753212, eval loss 0.5336084961891174\n",
            "epoch 1, loss 0.09465236961841583\n",
            "epoch 2, loss 0.07503773272037506\n",
            "epoch 3, loss 0.057986464351415634\n",
            "epoch 4, loss 0.04327971860766411\n",
            "epoch 5, loss 0.03131519630551338\n",
            "epoch 6, loss 0.024754079058766365\n",
            "epoch 7, loss 0.02760126255452633\n",
            "epoch 8, loss 0.03540835902094841\n",
            "epoch 9, loss 0.03429445996880531\n",
            "epoch 10, loss 0.02896837145090103\n",
            "epoch 11, loss 0.02475273236632347\n",
            "epoch 12, loss 0.023112663999199867\n",
            "epoch 13, loss 0.0227573961019516\n",
            "epoch 14, loss 0.023243675008416176\n",
            "epoch 15, loss 0.023450570181012154\n",
            "epoch 16, loss 0.023415090516209602\n",
            "epoch 17, loss 0.022742701694369316\n",
            "epoch 18, loss 0.021360192447900772\n",
            "epoch 19, loss 0.019217103719711304\n",
            "epoch 20, loss 0.016628632321953773, eval loss 0.08327878266572952\n",
            "epoch 21, loss 0.01394815556704998\n",
            "epoch 22, loss 0.012147169560194016\n",
            "epoch 23, loss 0.012752411887049675\n",
            "epoch 24, loss 0.014100193046033382\n",
            "epoch 25, loss 0.011281128972768784\n",
            "epoch 26, loss 0.008260426111519337\n",
            "epoch 27, loss 0.007464799098670483\n",
            "epoch 28, loss 0.007886097766458988\n",
            "epoch 29, loss 0.007813533768057823\n",
            "epoch 30, loss 0.006964290048927069\n",
            "epoch 31, loss 0.005043759476393461\n",
            "epoch 32, loss 0.0034489405807107687\n",
            "epoch 33, loss 0.004411979112774134\n",
            "epoch 34, loss 0.004619119223207235\n",
            "epoch 35, loss 0.0028892545960843563\n",
            "epoch 36, loss 0.002579716732725501\n",
            "epoch 37, loss 0.0033052621874958277\n",
            "epoch 38, loss 0.003364978125318885\n",
            "epoch 39, loss 0.0026067397557199\n",
            "epoch 40, loss 0.0020551704801619053, eval loss 0.009475596249103546\n",
            "epoch 41, loss 0.002042142441496253\n",
            "epoch 42, loss 0.002460828982293606\n",
            "epoch 43, loss 0.002070219023153186\n",
            "epoch 44, loss 0.001601817668415606\n",
            "epoch 45, loss 0.001505090156570077\n",
            "epoch 46, loss 0.0017076763324439526\n",
            "epoch 47, loss 0.0017924649873748422\n",
            "epoch 48, loss 0.0014858212089166045\n",
            "epoch 49, loss 0.001253527938388288\n",
            "epoch 50, loss 0.0013093298766762018\n",
            "epoch 51, loss 0.0013439429458230734\n",
            "epoch 52, loss 0.0014526358572766185\n",
            "epoch 53, loss 0.0013926888350397348\n",
            "epoch 54, loss 0.0012893074890598655\n",
            "epoch 55, loss 0.001302770571783185\n",
            "epoch 56, loss 0.0013648204039782286\n",
            "epoch 57, loss 0.0014029659796506166\n",
            "epoch 58, loss 0.0014117311220616102\n",
            "epoch 59, loss 0.0013435391010716558\n",
            "epoch 60, loss 0.001217201235704124, eval loss 0.03366725891828537\n",
            "epoch 61, loss 0.0013118437491357327\n",
            "epoch 62, loss 0.0013641630066558719\n",
            "epoch 63, loss 0.0013799043372273445\n",
            "epoch 64, loss 0.0012689960421994328\n",
            "epoch 65, loss 0.0012053054524585605\n",
            "epoch 66, loss 0.0011936515802517533\n",
            "epoch 67, loss 0.0012206807732582092\n",
            "epoch 68, loss 0.0012651201104745269\n",
            "epoch 69, loss 0.001221735030412674\n",
            "epoch 70, loss 0.0011486726580187678\n",
            "epoch 71, loss 0.0011534406803548336\n",
            "epoch 72, loss 0.0012118796585127711\n",
            "epoch 73, loss 0.001212300849147141\n",
            "epoch 74, loss 0.0012301418464630842\n",
            "epoch 75, loss 0.0012325780699029565\n",
            "epoch 76, loss 0.0011258688755333424\n",
            "epoch 77, loss 0.0012321269605308771\n",
            "epoch 78, loss 0.0011413105530664325\n",
            "epoch 79, loss 0.0011294925352558494\n",
            "epoch 80, loss 0.0011137414257973433, eval loss 0.02006683312356472\n",
            "epoch 81, loss 0.0011419215006753802\n",
            "epoch 82, loss 0.001079623936675489\n",
            "epoch 83, loss 0.001144789275713265\n",
            "epoch 84, loss 0.0011829567374661565\n",
            "epoch 85, loss 0.001087911892682314\n",
            "epoch 86, loss 0.0011178486747667193\n",
            "epoch 87, loss 0.0011251807445660233\n",
            "epoch 88, loss 0.0010792973916977644\n",
            "epoch 89, loss 0.0011904719285666943\n",
            "epoch 90, loss 0.0011007683351635933\n",
            "epoch 91, loss 0.0010869825491681695\n",
            "epoch 92, loss 0.0010746591724455357\n",
            "epoch 93, loss 0.001090166624635458\n",
            "epoch 94, loss 0.0010659380350261927\n",
            "epoch 95, loss 0.0010957212653011084\n",
            "epoch 96, loss 0.001148914103396237\n",
            "epoch 97, loss 0.0011084831785410643\n",
            "epoch 98, loss 0.0011403470998629928\n",
            "epoch 99, loss 0.001101378700695932\n",
            "epoch 100, loss 0.0011130273342132568, eval loss 0.016606858000159264\n",
            "epoch 101, loss 0.0010815890273079276\n",
            "epoch 102, loss 0.0011019476223737001\n",
            "epoch 103, loss 0.0010723040904849768\n",
            "epoch 104, loss 0.0010570022277534008\n",
            "epoch 105, loss 0.0011059774551540613\n",
            "epoch 106, loss 0.0010492342989891768\n",
            "epoch 107, loss 0.0010810501407831907\n",
            "epoch 108, loss 0.0010869906982406974\n",
            "epoch 109, loss 0.0010099030332639813\n",
            "epoch 110, loss 0.0009988324018195271\n",
            "epoch 111, loss 0.001066967728547752\n",
            "epoch 112, loss 0.0010007851524278522\n",
            "epoch 113, loss 0.0010698939440771937\n",
            "epoch 114, loss 0.0010313246166333556\n",
            "epoch 115, loss 0.0010014947038143873\n",
            "epoch 116, loss 0.0010631263721734285\n",
            "epoch 117, loss 0.0010860022157430649\n",
            "epoch 118, loss 0.0010397115256637335\n",
            "epoch 119, loss 0.0010596646461635828\n",
            "epoch 120, loss 0.0009937416762113571, eval loss 0.01554078608751297\n",
            "epoch 121, loss 0.001062655239365995\n",
            "epoch 122, loss 0.001059846836142242\n",
            "epoch 123, loss 0.0009979837341234088\n",
            "epoch 124, loss 0.0010218623792752624\n",
            "epoch 125, loss 0.0009817263344302773\n",
            "epoch 126, loss 0.0010131924645975232\n",
            "epoch 127, loss 0.0010206005536019802\n",
            "epoch 128, loss 0.000990934087894857\n",
            "epoch 129, loss 0.0010534838074818254\n",
            "epoch 130, loss 0.0010708074551075697\n",
            "epoch 131, loss 0.0009890157962217927\n",
            "epoch 132, loss 0.0010087903356179595\n",
            "epoch 133, loss 0.0010830382816493511\n",
            "epoch 134, loss 0.000999007374048233\n",
            "epoch 135, loss 0.0009927215287461877\n",
            "epoch 136, loss 0.000964959675911814\n",
            "epoch 137, loss 0.0010032335994765162\n",
            "epoch 138, loss 0.001018650596961379\n",
            "epoch 139, loss 0.0009740625973790884\n",
            "epoch 140, loss 0.0010298312408849597, eval loss 0.013385321013629436\n",
            "epoch 141, loss 0.0009811697527766228\n",
            "epoch 142, loss 0.0009765150025486946\n",
            "epoch 143, loss 0.0009615997551009059\n",
            "epoch 144, loss 0.000973220041487366\n",
            "epoch 145, loss 0.000941509788390249\n",
            "epoch 146, loss 0.0009458197164349258\n",
            "epoch 147, loss 0.0009618358453735709\n",
            "epoch 148, loss 0.0009746019495651126\n",
            "epoch 149, loss 0.0009810624178498983\n",
            "epoch 150, loss 0.001034976332448423\n",
            "epoch 151, loss 0.0009754602215252817\n",
            "epoch 152, loss 0.0009920368902385235\n",
            "epoch 153, loss 0.0009648571722209454\n",
            "epoch 154, loss 0.0010305590694770217\n",
            "epoch 155, loss 0.0010176111245527864\n",
            "epoch 156, loss 0.0009279877413064241\n",
            "epoch 157, loss 0.0009442750597372651\n",
            "epoch 158, loss 0.0009747178410179913\n",
            "epoch 159, loss 0.0009129043319262564\n",
            "epoch 160, loss 0.0009388647740706801, eval loss 0.010737700387835503\n",
            "epoch 161, loss 0.00096512382151559\n",
            "epoch 162, loss 0.0009809185285121202\n",
            "epoch 163, loss 0.0010195050854235888\n",
            "epoch 164, loss 0.001002505305223167\n",
            "epoch 165, loss 0.0009171116398647428\n",
            "epoch 166, loss 0.0008932058117352426\n",
            "epoch 167, loss 0.0009459346765652299\n",
            "epoch 168, loss 0.0008939174585975707\n",
            "epoch 169, loss 0.000975407543592155\n",
            "epoch 170, loss 0.0009067349601536989\n",
            "epoch 171, loss 0.0009517189464531839\n",
            "epoch 172, loss 0.0009062858880497515\n",
            "epoch 173, loss 0.0009163389331661165\n",
            "epoch 174, loss 0.0009532280382700264\n",
            "epoch 175, loss 0.0008948217146098614\n",
            "epoch 176, loss 0.000916224205866456\n",
            "epoch 177, loss 0.0009643877274356782\n",
            "epoch 178, loss 0.0009011626243591309\n",
            "epoch 179, loss 0.0009129561367444694\n",
            "epoch 180, loss 0.0008881755056791008, eval loss 0.007706982549279928\n",
            "epoch 181, loss 0.0009317474905401468\n",
            "epoch 182, loss 0.0009383123251609504\n",
            "epoch 183, loss 0.0009281403617933393\n",
            "epoch 184, loss 0.0009595356532372534\n",
            "epoch 185, loss 0.0008788300910964608\n",
            "epoch 186, loss 0.0008893532212823629\n",
            "epoch 187, loss 0.0008637331193313003\n",
            "epoch 188, loss 0.000931210583075881\n",
            "epoch 189, loss 0.0008412101888097823\n",
            "epoch 190, loss 0.0008950894116424024\n",
            "epoch 191, loss 0.0009201705688610673\n",
            "epoch 192, loss 0.000869393814355135\n",
            "epoch 193, loss 0.0008523082360625267\n",
            "epoch 194, loss 0.0009015585528686643\n",
            "epoch 195, loss 0.0008695245487615466\n",
            "epoch 196, loss 0.0008535324595868587\n",
            "epoch 197, loss 0.0008348485571332276\n",
            "epoch 198, loss 0.000786087941378355\n",
            "epoch 199, loss 0.0008013410842977464\n",
            "epoch 200, loss 0.0007953103631734848, eval loss 0.004605506081134081\n",
            "epoch 201, loss 0.0007961908122524619\n",
            "epoch 202, loss 0.0008569373749196529\n",
            "epoch 203, loss 0.0007877078023739159\n",
            "epoch 204, loss 0.0008583241142332554\n",
            "epoch 205, loss 0.0008739163749851286\n",
            "epoch 206, loss 0.0008808387792669237\n",
            "epoch 207, loss 0.000770407437812537\n",
            "epoch 208, loss 0.0008707467350177467\n",
            "epoch 209, loss 0.0008035216596908867\n",
            "epoch 210, loss 0.0008073995122686028\n",
            "epoch 211, loss 0.0008196941926144063\n",
            "epoch 212, loss 0.0007779380539432168\n",
            "epoch 213, loss 0.0008147594053298235\n",
            "epoch 214, loss 0.0007932690787129104\n",
            "epoch 215, loss 0.0008217957220040262\n",
            "epoch 216, loss 0.000834703678265214\n",
            "epoch 217, loss 0.0008033328340388834\n",
            "epoch 218, loss 0.0007493012235499918\n",
            "epoch 219, loss 0.0008740632911212742\n",
            "epoch 220, loss 0.0007901900680735707, eval loss 0.0036035431548953056\n",
            "epoch 221, loss 0.0008351257420144975\n",
            "epoch 222, loss 0.0008421429665759206\n",
            "epoch 223, loss 0.0007794690318405628\n",
            "epoch 224, loss 0.0007901533972471952\n",
            "epoch 225, loss 0.0007793930708430707\n",
            "epoch 226, loss 0.0007861103513278067\n",
            "epoch 227, loss 0.000757600471843034\n",
            "epoch 228, loss 0.0007816182915121317\n",
            "epoch 229, loss 0.0008106831810437143\n",
            "epoch 230, loss 0.0008612244273535907\n",
            "epoch 231, loss 0.0007940343348309398\n",
            "epoch 232, loss 0.0009184100781567395\n",
            "epoch 233, loss 0.0007647241582162678\n",
            "epoch 234, loss 0.0008907055598683655\n",
            "epoch 235, loss 0.0008206177735701203\n",
            "epoch 236, loss 0.0007737756241112947\n",
            "epoch 237, loss 0.000827586860395968\n",
            "epoch 238, loss 0.0007700720452703536\n",
            "epoch 239, loss 0.0008148003835231066\n",
            "epoch 240, loss 0.0007777456776238978, eval loss 0.00358805013820529\n",
            "epoch 241, loss 0.0007936476613394916\n",
            "epoch 242, loss 0.0007624251302331686\n",
            "epoch 243, loss 0.0007739724824205041\n",
            "epoch 244, loss 0.0007716136169619858\n",
            "epoch 245, loss 0.0008042669505812228\n",
            "epoch 246, loss 0.0008017215877771378\n",
            "epoch 247, loss 0.0007940969662740827\n",
            "epoch 248, loss 0.0007885515224188566\n",
            "epoch 249, loss 0.0007529901340603828\n",
            "epoch 250, loss 0.0007218040409497917\n",
            "epoch 251, loss 0.0007891195127740502\n",
            "epoch 252, loss 0.0008128940244205296\n",
            "epoch 253, loss 0.0008020629175007343\n",
            "epoch 254, loss 0.0007510587456636131\n",
            "epoch 255, loss 0.0007610552129335701\n",
            "epoch 256, loss 0.000759459100663662\n",
            "epoch 257, loss 0.0007551390444859862\n",
            "epoch 258, loss 0.000766075449064374\n",
            "epoch 259, loss 0.0007946693804115057\n",
            "epoch 260, loss 0.0008482334087602794, eval loss 0.003829643130302429\n",
            "epoch 261, loss 0.000732370070181787\n",
            "epoch 262, loss 0.0008017828804440796\n",
            "epoch 263, loss 0.0007337592542171478\n",
            "epoch 264, loss 0.0008239318267442286\n",
            "epoch 265, loss 0.0007624223362654448\n",
            "epoch 266, loss 0.0008212316897697747\n",
            "epoch 267, loss 0.0007869331166148186\n",
            "epoch 268, loss 0.0007344453479163349\n",
            "epoch 269, loss 0.0007573981420136988\n",
            "epoch 270, loss 0.0008123728912323713\n",
            "epoch 271, loss 0.0007086738478392363\n",
            "epoch 272, loss 0.0007814556593075395\n",
            "epoch 273, loss 0.0007578411605209112\n",
            "epoch 274, loss 0.0007360433810390532\n",
            "epoch 275, loss 0.0007378642330877483\n",
            "epoch 276, loss 0.0008128666086122394\n",
            "epoch 277, loss 0.000735699140932411\n",
            "epoch 278, loss 0.0007572852773591876\n",
            "epoch 279, loss 0.0007868816610425711\n",
            "epoch 280, loss 0.0007664880831725895, eval loss 0.004322420340031385\n",
            "epoch 281, loss 0.0007710689678788185\n",
            "epoch 282, loss 0.0007315825787372887\n",
            "epoch 283, loss 0.0007008796092122793\n",
            "epoch 284, loss 0.000752245367038995\n",
            "epoch 285, loss 0.0007289977511391044\n",
            "epoch 286, loss 0.0007587673026137054\n",
            "epoch 287, loss 0.0007512124138884246\n",
            "epoch 288, loss 0.0007205122965388\n",
            "epoch 289, loss 0.0007110720034688711\n",
            "epoch 290, loss 0.0007634837529622018\n",
            "epoch 291, loss 0.0006910818628966808\n",
            "epoch 292, loss 0.0007206466398201883\n",
            "epoch 293, loss 0.0007277503609657288\n",
            "epoch 294, loss 0.0007556953933089972\n",
            "epoch 295, loss 0.0007360605522990227\n",
            "epoch 296, loss 0.000767028599511832\n",
            "epoch 297, loss 0.0007068858249112964\n",
            "epoch 298, loss 0.0007661746349185705\n",
            "epoch 299, loss 0.0007154221530072391\n",
            "epoch 300, loss 0.0007376967114396393, eval loss 0.0033339480869472027\n",
            "epoch 301, loss 0.0007447153911925852\n",
            "epoch 302, loss 0.0007509522256441414\n",
            "epoch 303, loss 0.0007515291217714548\n",
            "epoch 304, loss 0.0007049887790344656\n",
            "epoch 305, loss 0.0008145996835082769\n",
            "epoch 306, loss 0.0007214470533654094\n",
            "epoch 307, loss 0.0007440680637955666\n",
            "epoch 308, loss 0.0007437542080879211\n",
            "epoch 309, loss 0.0007738788262940943\n",
            "epoch 310, loss 0.0007376908324658871\n",
            "epoch 311, loss 0.0007196661317721009\n",
            "epoch 312, loss 0.0007379926973953843\n",
            "epoch 313, loss 0.0007221422274596989\n",
            "epoch 314, loss 0.0007217554375529289\n",
            "epoch 315, loss 0.0007680761045776308\n",
            "epoch 316, loss 0.0007012640708126128\n",
            "epoch 317, loss 0.0007184622227214277\n",
            "epoch 318, loss 0.0006870447541587055\n",
            "epoch 319, loss 0.0006706173298880458\n",
            "epoch 320, loss 0.000646268657874316, eval loss 0.0032987608574330807\n",
            "epoch 321, loss 0.0007016127347014844\n",
            "epoch 322, loss 0.0006932534161023796\n",
            "epoch 323, loss 0.0007528847781941295\n",
            "epoch 324, loss 0.0006870325305499136\n",
            "epoch 325, loss 0.0006484563928097486\n",
            "epoch 326, loss 0.000712794077116996\n",
            "epoch 327, loss 0.0006654905155301094\n",
            "epoch 328, loss 0.0006699918885715306\n",
            "epoch 329, loss 0.0006920323939993978\n",
            "epoch 330, loss 0.0007141947280615568\n",
            "epoch 331, loss 0.0006615733145736158\n",
            "epoch 332, loss 0.0006246945704333484\n",
            "epoch 333, loss 0.0006958975573070347\n",
            "epoch 334, loss 0.0007078070193529129\n",
            "epoch 335, loss 0.0006966059445403516\n",
            "epoch 336, loss 0.0006596906459890306\n",
            "epoch 337, loss 0.0006880566361360252\n",
            "epoch 338, loss 0.0007221904234029353\n",
            "epoch 339, loss 0.0007250473136082292\n",
            "epoch 340, loss 0.0007141260430216789, eval loss 0.0037853489629924297\n",
            "epoch 341, loss 0.0007441302877850831\n",
            "epoch 342, loss 0.000735068810172379\n",
            "epoch 343, loss 0.0007279132842086256\n",
            "epoch 344, loss 0.0006904732435941696\n",
            "epoch 345, loss 0.0007201942498795688\n",
            "epoch 346, loss 0.0006952018011361361\n",
            "epoch 347, loss 0.0006774994544684887\n",
            "epoch 348, loss 0.000655751267913729\n",
            "epoch 349, loss 0.0006755696376785636\n",
            "epoch 350, loss 0.0007261041318997741\n",
            "epoch 351, loss 0.000648828106932342\n",
            "epoch 352, loss 0.0007438627653755248\n",
            "epoch 353, loss 0.0006926135392859578\n",
            "epoch 354, loss 0.0007181608816608787\n",
            "epoch 355, loss 0.0007121769594959915\n",
            "epoch 356, loss 0.0006707311258651316\n",
            "epoch 357, loss 0.0006611732533201575\n",
            "epoch 358, loss 0.000621873652562499\n",
            "epoch 359, loss 0.0007125822594389319\n",
            "epoch 360, loss 0.0006197320180945098, eval loss 0.003523372346535325\n",
            "epoch 361, loss 0.0006725528510287404\n",
            "epoch 362, loss 0.0007010209956206381\n",
            "epoch 363, loss 0.0007056184695102274\n",
            "epoch 364, loss 0.0006372869829647243\n",
            "epoch 365, loss 0.0007155167404562235\n",
            "epoch 366, loss 0.000705759332049638\n",
            "epoch 367, loss 0.0006757004302926362\n",
            "epoch 368, loss 0.0006337151862680912\n",
            "epoch 369, loss 0.0006801157142035663\n",
            "epoch 370, loss 0.0007041345816105604\n",
            "epoch 371, loss 0.0006353789940476418\n",
            "epoch 372, loss 0.0006787141901440918\n",
            "epoch 373, loss 0.0006528643425554037\n",
            "epoch 374, loss 0.0007130586891435087\n",
            "epoch 375, loss 0.0006795516237616539\n",
            "epoch 376, loss 0.000683640013448894\n",
            "epoch 377, loss 0.00063137715915218\n",
            "epoch 378, loss 0.0006639755447395146\n",
            "epoch 379, loss 0.0006293807527981699\n",
            "epoch 380, loss 0.0006266514537855983, eval loss 0.0031786204781383276\n",
            "epoch 381, loss 0.0007064059027470648\n",
            "epoch 382, loss 0.0006285150302574039\n",
            "epoch 383, loss 0.000646348693408072\n",
            "epoch 384, loss 0.0006709741428494453\n",
            "epoch 385, loss 0.000641305057797581\n",
            "epoch 386, loss 0.0007035102462396026\n",
            "epoch 387, loss 0.0006184832309372723\n",
            "epoch 388, loss 0.0006447107880376279\n",
            "epoch 389, loss 0.0006602773792110384\n",
            "epoch 390, loss 0.0006181341595947742\n",
            "epoch 391, loss 0.0005907653830945492\n",
            "epoch 392, loss 0.0006490396335721016\n",
            "epoch 393, loss 0.0006690421141684055\n",
            "epoch 394, loss 0.0006907078204676509\n",
            "epoch 395, loss 0.0007161858957260847\n",
            "epoch 396, loss 0.0006530943210236728\n",
            "epoch 397, loss 0.0006387769826687872\n",
            "epoch 398, loss 0.0006086582434363663\n",
            "epoch 399, loss 0.000622689665760845\n",
            "epoch 400, loss 0.000674611481372267, eval loss 0.002843405120074749\n",
            "epoch 401, loss 0.000651260488666594\n",
            "epoch 402, loss 0.0006366581656038761\n",
            "epoch 403, loss 0.0005812395829707384\n",
            "epoch 404, loss 0.0006114732241258025\n",
            "epoch 405, loss 0.0006071359966881573\n",
            "epoch 406, loss 0.0005968841724097729\n",
            "epoch 407, loss 0.00065624836133793\n",
            "epoch 408, loss 0.000642117578536272\n",
            "epoch 409, loss 0.0006316699436865747\n",
            "epoch 410, loss 0.0006406415486708283\n",
            "epoch 411, loss 0.0006772016640752554\n",
            "epoch 412, loss 0.0006283351685851812\n",
            "epoch 413, loss 0.0006390460766851902\n",
            "epoch 414, loss 0.0006435995455831289\n",
            "epoch 415, loss 0.000622528837993741\n",
            "epoch 416, loss 0.0006405298481695354\n",
            "epoch 417, loss 0.0006304594571702182\n",
            "epoch 418, loss 0.0006078740116208792\n",
            "epoch 419, loss 0.0006606627139262855\n",
            "epoch 420, loss 0.0006247812998481095, eval loss 0.0027359453961253166\n",
            "epoch 421, loss 0.0006124130450189114\n",
            "epoch 422, loss 0.0006116409786045551\n",
            "epoch 423, loss 0.0006115727592259645\n",
            "epoch 424, loss 0.0006038012797944248\n",
            "epoch 425, loss 0.00059630157193169\n",
            "epoch 426, loss 0.000610884337220341\n",
            "epoch 427, loss 0.0006467567291110754\n",
            "epoch 428, loss 0.0006451267981901765\n",
            "epoch 429, loss 0.0006484067998826504\n",
            "epoch 430, loss 0.0006245073163881898\n",
            "epoch 431, loss 0.0005923598073422909\n",
            "epoch 432, loss 0.0006213916931301355\n",
            "epoch 433, loss 0.0005772323929704726\n",
            "epoch 434, loss 0.0006609910051338375\n",
            "epoch 435, loss 0.000611172872595489\n",
            "epoch 436, loss 0.0006316198268905282\n",
            "epoch 437, loss 0.0005708870012313128\n",
            "epoch 438, loss 0.0006186848040670156\n",
            "epoch 439, loss 0.0006129731191322207\n",
            "epoch 440, loss 0.0006141156191006303, eval loss 0.0026301650796085596\n",
            "epoch 441, loss 0.0006149293622002006\n",
            "epoch 442, loss 0.0006541075999848545\n",
            "epoch 443, loss 0.0006123404600657523\n",
            "epoch 444, loss 0.0006290533929131925\n",
            "epoch 445, loss 0.0005638040602207184\n",
            "epoch 446, loss 0.0006179542397148907\n",
            "epoch 447, loss 0.0005719675100408494\n",
            "epoch 448, loss 0.0005746958777308464\n",
            "epoch 449, loss 0.0005651466199196875\n",
            "epoch 450, loss 0.000594328623265028\n",
            "epoch 451, loss 0.0006255034822970629\n",
            "epoch 452, loss 0.0005997404223307967\n",
            "epoch 453, loss 0.0005596060073003173\n",
            "epoch 454, loss 0.000617096433416009\n",
            "epoch 455, loss 0.0005973796360194683\n",
            "epoch 456, loss 0.0005785800167359412\n",
            "epoch 457, loss 0.0005908320308662951\n",
            "epoch 458, loss 0.0006493292166851461\n",
            "epoch 459, loss 0.0006022463785484433\n",
            "epoch 460, loss 0.000594871467910707, eval loss 0.0027205790393054485\n",
            "epoch 461, loss 0.0006221365765668452\n",
            "epoch 462, loss 0.0005820090882480145\n",
            "epoch 463, loss 0.0005838829674758017\n",
            "epoch 464, loss 0.0005866569699719548\n",
            "epoch 465, loss 0.0006107825320214033\n",
            "epoch 466, loss 0.0005743657820858061\n",
            "epoch 467, loss 0.0005832447204738855\n",
            "epoch 468, loss 0.0005612279055640101\n",
            "epoch 469, loss 0.0005863578408025205\n",
            "epoch 470, loss 0.0005341212963685393\n",
            "epoch 471, loss 0.0005596837145276368\n",
            "epoch 472, loss 0.000573782657738775\n",
            "epoch 473, loss 0.0005106505122967064\n",
            "epoch 474, loss 0.0005636487039737403\n",
            "epoch 475, loss 0.0005628310609608889\n",
            "epoch 476, loss 0.0005652285180985928\n",
            "epoch 477, loss 0.0005658681620843709\n",
            "epoch 478, loss 0.0005784808308817446\n",
            "epoch 479, loss 0.0005621876916848123\n",
            "epoch 480, loss 0.0005692810518667102, eval loss 0.0024858121760189533\n",
            "epoch 481, loss 0.0005968592595309019\n",
            "epoch 482, loss 0.0005489372415468097\n",
            "epoch 483, loss 0.0005878956289961934\n",
            "epoch 484, loss 0.0005718632601201534\n",
            "epoch 485, loss 0.0005602150340564549\n",
            "epoch 486, loss 0.0006098314770497382\n",
            "epoch 487, loss 0.0005588761414401233\n",
            "epoch 488, loss 0.0005763539229519665\n",
            "epoch 489, loss 0.0005993099766783416\n",
            "epoch 490, loss 0.0005873168702237308\n",
            "epoch 491, loss 0.0005728271207772195\n",
            "epoch 492, loss 0.0005790143040940166\n",
            "epoch 493, loss 0.0006020276923663914\n",
            "epoch 494, loss 0.0006476150592789054\n",
            "epoch 495, loss 0.0005878324736841023\n",
            "epoch 496, loss 0.0005294096772558987\n",
            "epoch 497, loss 0.0005880014505237341\n",
            "epoch 498, loss 0.0005991992074996233\n",
            "epoch 499, loss 0.000542185443919152\n"
          ],
          "name": "stdout"
        }
      ]
    },
    {
      "cell_type": "markdown",
      "metadata": {
        "id": "PY0wF6e46-JE"
      },
      "source": [
        "## Step 5:  Model Performance Evaluation"
      ]
    },
    {
      "cell_type": "code",
      "metadata": {
        "id": "6dygBlig6_XD",
        "colab": {
          "base_uri": "https://localhost:8080/",
          "height": 338
        },
        "outputId": "49aa4dbb-fd8d-4cc5-a2a7-edf1c3fad811"
      },
      "source": [
        "#Plot training histroy\n",
        "plt.figure(figsize=(12,5))\n",
        "plt.plot(history)\n",
        "# dplt.plot(history.history['val_loss'])"
      ],
      "execution_count": 20,
      "outputs": [
        {
          "output_type": "execute_result",
          "data": {
            "text/plain": [
              "[<matplotlib.lines.Line2D at 0x7f61011507b8>]"
            ]
          },
          "metadata": {
            "tags": []
          },
          "execution_count": 20
        },
        {
          "output_type": "display_data",
          "data": {
            "image/png": "[encoded data removed]",
            "text/plain": [
              "<Figure size 864x360 with 1 Axes>"
            ]
          },
          "metadata": {
            "tags": [],
            "needs_background": "light"
          }
        }
      ]
    },
    {
      "cell_type": "code",
      "metadata": {
        "id": "ScaBHhTv7Jih",
        "colab": {
          "base_uri": "https://localhost:8080/"
        },
        "outputId": "9df810e1-5275-4a26-f065-cc1bf76abc8f"
      },
      "source": [
        "X_test[0]# Take a look at test results"
      ],
      "execution_count": 14,
      "outputs": [
        {
          "output_type": "execute_result",
          "data": {
            "text/plain": [
              "array([[0.53324732, 0.53097957, 0.5909131 , 0.5891313 , 0.59358582,\n",
              "        0.60338576, 0.61342868]])"
            ]
          },
          "metadata": {
            "tags": []
          },
          "execution_count": 14
        }
      ]
    },
    {
      "cell_type": "code",
      "metadata": {
        "id": "hyICDKXa7Vbe"
      },
      "source": [
        "# Switch to eval mode\n",
        "rnn.eval()\n",
        "\n",
        "test_predict, _ = rnn(X_test_cuda, hidden_state)\n",
        "test_predict_cpu = test_predict.cpu().detach().numpy()"
      ],
      "execution_count": 15,
      "outputs": []
    },
    {
      "cell_type": "code",
      "metadata": {
        "id": "FwD_e6VO-cIa",
        "colab": {
          "base_uri": "https://localhost:8080/"
        },
        "outputId": "d48f34a5-2745-415a-bae6-bba0c381ef15"
      },
      "source": [
        "test_predict_cpu.shape #check output shape"
      ],
      "execution_count": 16,
      "outputs": [
        {
          "output_type": "execute_result",
          "data": {
            "text/plain": [
              "(251, 1, 1)"
            ]
          },
          "metadata": {
            "tags": []
          },
          "execution_count": 16
        }
      ]
    },
    {
      "cell_type": "code",
      "metadata": {
        "id": "c-__h1sU7kW6",
        "colab": {
          "base_uri": "https://localhost:8080/",
          "height": 338
        },
        "outputId": "2b09e88c-398a-417a-e08d-719a69b284dc"
      },
      "source": [
        "# Plot preicted vs test\n",
        "plt.figure(figsize=(15,5))\n",
        "plt.plot(sc.inverse_transform(y_test.reshape(-1,1)))\n",
        "plt.plot(sc.inverse_transform(test_predict_cpu.reshape(-1,1)))"
      ],
      "execution_count": 21,
      "outputs": [
        {
          "output_type": "execute_result",
          "data": {
            "text/plain": [
              "[<matplotlib.lines.Line2D at 0x7f610110eeb8>]"
            ]
          },
          "metadata": {
            "tags": []
          },
          "execution_count": 21
        },
        {
          "output_type": "display_data",
          "data": {
            "image/png": "[encoded data removed]",
            "text/plain": [
              "<Figure size 1080x360 with 1 Axes>"
            ]
          },
          "metadata": {
            "tags": [],
            "needs_background": "light"
          }
        }
      ]
    },
    {
      "cell_type": "code",
      "metadata": {
        "id": "LnMGQ5Sa8vMs",
        "colab": {
          "base_uri": "https://localhost:8080/",
          "height": 334
        },
        "outputId": "afba3b65-0553-4a6d-f351-a271885966fe"
      },
      "source": [
        "# plot original data\n",
        "plt.figure(figsize=(15,5))\n",
        "plt.plot(sc.inverse_transform(y.reshape(-1,1)), color='k')\n",
        "\n",
        "# train_inputs = torch.tensor(X_train).float().cuda()\n",
        "train_pred, hidden_state = rnn(inputs_cuda, None)\n",
        "train_pred_cpu = train_pred.cpu().detach().numpy()\n",
        "\n",
        "# use hidden state from previous training data\n",
        "test_predict, _ = rnn(X_test_cuda, hidden_state)\n",
        "test_predict_cpu = test_predict.cpu().detach().numpy()\n",
        "\n",
        "# plt.plot(scl.inverse_transform(y_test.reshape(-1,1)))\n",
        "split_pt = int(X.shape[0] * 0.80) + 7 # window_size\n",
        "plt.plot(np.arange(7, split_pt, 1), sc.inverse_transform(train_pred_cpu.reshape(-1,1)), color='b')\n",
        "plt.plot(np.arange(split_pt, split_pt + len(test_predict_cpu), 1), sc.inverse_transform(test_predict_cpu.reshape(-1,1)), color='r')\n",
        "\n",
        "# pretty up graph\n",
        "\n",
        "plt.xlabel('day')\n",
        "plt.ylabel('price of Apple stock')\n",
        "plt.legend(['original series','training fit','testing fit'], loc='center left', bbox_to_anchor=(1, 0.5))\n",
        "plt.show()\n"
      ],
      "execution_count": 24,
      "outputs": [
        {
          "output_type": "display_data",
          "data": {
            "image/png": "[encoded data removed]",
            "text/plain": [
              "<Figure size 1080x360 with 1 Axes>"
            ]
          },
          "metadata": {
            "tags": [],
            "needs_background": "light"
          }
        }
      ]
    }
  ]
}